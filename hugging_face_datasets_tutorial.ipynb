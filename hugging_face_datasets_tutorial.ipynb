{
  "nbformat": 4,
  "nbformat_minor": 0,
  "metadata": {
    "colab": {
      "provenance": []
    },
    "kernelspec": {
      "name": "python3",
      "display_name": "Python 3"
    },
    "language_info": {
      "name": "python"
    }
  },
  "cells": [
    {
      "cell_type": "markdown",
      "source": [
        "# Introduction to Datasets"
      ],
      "metadata": {
        "id": "glB7xoQxtQS5"
      }
    },
    {
      "cell_type": "markdown",
      "source": [
        "[Datasets](https://huggingface.co/datasets) provides a simple unified API to download and access datasets for machine learning research, avoiding the need to write custom data loading code for each one. This notebook focuses on key NLP datasets for tasks like text classification, question answering, and sentence similarity.\n",
        "\n",
        "In this tutorial, you will learn how to:\n",
        "\n",
        "- Load a dataset and its subsets\n",
        "- Use the load_dataset_builder() function to load a dataset builder and inspect a dataset’s attributes\n",
        "- Use the get_dataset_config_names() function to retrieve a list of all the possible configurations available to your dataset:\n",
        "\n"
      ],
      "metadata": {
        "id": "z2WDx1kLe0GT"
      }
    },
    {
      "cell_type": "markdown",
      "metadata": {
        "id": "6a3ac0f2-e2e"
      },
      "source": [
        "This code installs the required packages datasets, evaluate, transformers[torch], and rich using the pip package manager. The exclamation mark before pip indicates that the code is being executed in a Jupyter notebook or IPython environment."
      ]
    },
    {
      "cell_type": "code",
      "execution_count": null,
      "metadata": {
        "id": "cLQAm02kLce2"
      },
      "outputs": [],
      "source": [
        "!pip install datasets evaluate transformers[torch] rich"
      ]
    },
    {
      "cell_type": "markdown",
      "metadata": {
        "id": "e61afd67-3dc"
      },
      "source": [
        "The code imports the `load_dataset` function from the `datasets` module and the `pprint` function from the `rich.pretty` module. These functions can be used to load datasets and pretty print objects respectively."
      ]
    },
    {
      "cell_type": "code",
      "source": [
        "from datasets import load_dataset\n",
        "from rich import print\n"
      ],
      "metadata": {
        "id": "I_49GjnPLif-"
      },
      "execution_count": null,
      "outputs": []
    },
    {
      "cell_type": "markdown",
      "metadata": {
        "id": "95e5d02a-ef4"
      },
      "source": [
        "This code loads the \"mrpc\" dataset from the \"glue\" library using the `load_dataset` function. The dataset object is stored in the variable `dataset`."
      ]
    },
    {
      "cell_type": "code",
      "source": [
        "dataset = load_dataset(\"glue\",\"mrpc\")"
      ],
      "metadata": {
        "id": "OCZ7YQvvL6W6"
      },
      "execution_count": null,
      "outputs": []
    },
    {
      "cell_type": "code",
      "source": [
        "print(dataset)"
      ],
      "metadata": {
        "id": "Zclz6AIsLuzc"
      },
      "execution_count": null,
      "outputs": []
    },
    {
      "cell_type": "markdown",
      "metadata": {
        "id": "978f9f3f-af6"
      },
      "source": [
        "This code loads the MRPC dataset from the \"glue\" module's train split and assigns it to the variable `train_dataset`. It is used to access and manipulate the training data for the MRPC task."
      ]
    },
    {
      "cell_type": "code",
      "source": [
        "train_dataset = load_dataset(\"glue\",\"mrpc\",split=\"train\")"
      ],
      "metadata": {
        "id": "_3WTNtjWL4C5"
      },
      "execution_count": null,
      "outputs": []
    },
    {
      "cell_type": "code",
      "source": [
        "print(train_dataset)"
      ],
      "metadata": {
        "id": "PbA93TylMhs9"
      },
      "execution_count": null,
      "outputs": []
    },
    {
      "cell_type": "markdown",
      "metadata": {
        "id": "930e7d8a-422"
      },
      "source": [
        "The code loads the training split of the SQuAD dataset using the `load_dataset` function from an unknown source. The dataset is stored in the `squad_train` variable."
      ]
    },
    {
      "cell_type": "code",
      "source": [
        "squad_train = load_dataset(\"squad\",split=\"train\")"
      ],
      "metadata": {
        "id": "Uk6S1SRTMjpl"
      },
      "execution_count": null,
      "outputs": []
    },
    {
      "cell_type": "code",
      "source": [
        "print(squad_train[10])"
      ],
      "metadata": {
        "id": "bnhcLTW5NRzz"
      },
      "execution_count": null,
      "outputs": []
    },
    {
      "cell_type": "markdown",
      "metadata": {
        "id": "39ec298d-261"
      },
      "source": [
        "The code imports the `load_dataset_builder` function from the `datasets` module. This function can be used to load a dataset builder object in Python."
      ]
    },
    {
      "cell_type": "code",
      "source": [
        "from datasets import load_dataset_builder"
      ],
      "metadata": {
        "id": "o30ysEzdNb_S"
      },
      "execution_count": null,
      "outputs": []
    },
    {
      "cell_type": "markdown",
      "metadata": {
        "id": "08665bbd-355"
      },
      "source": [
        "This code loads a dataset builder for the MRPC task from the GLUE benchmark. The dataset builder can be used to access and manipulate the MRPC dataset for natural language processing tasks."
      ]
    },
    {
      "cell_type": "code",
      "source": [
        "ds_builder = load_dataset_builder(\"glue\",\"mrpc\")"
      ],
      "metadata": {
        "id": "15FT7lE-N_T5"
      },
      "execution_count": null,
      "outputs": []
    },
    {
      "cell_type": "code",
      "source": [
        "print(ds_builder.info)"
      ],
      "metadata": {
        "id": "26DUIdNNOBeB"
      },
      "execution_count": null,
      "outputs": []
    },
    {
      "cell_type": "markdown",
      "metadata": {
        "id": "3f95054c-3bd"
      },
      "source": [
        "The code imports the `get_dataset_config_names` function from the `datasets` module. This function is used to retrieve the names of the available dataset configurations."
      ]
    },
    {
      "cell_type": "code",
      "source": [
        "from datasets import get_dataset_config_names"
      ],
      "metadata": {
        "id": "yNgUxIFBODg5"
      },
      "execution_count": null,
      "outputs": []
    },
    {
      "cell_type": "markdown",
      "metadata": {
        "id": "f9312e5c-564"
      },
      "source": [
        "This code calls the `get_dataset_config_names()` function with the argument `\"glue\"`. It returns a list of configuration names for the \"glue\" dataset."
      ]
    },
    {
      "cell_type": "code",
      "source": [
        "configs = get_dataset_config_names(\"glue\")"
      ],
      "metadata": {
        "id": "tjHDh9wkOjqw"
      },
      "execution_count": null,
      "outputs": []
    },
    {
      "cell_type": "code",
      "source": [
        "print(configs)"
      ],
      "metadata": {
        "colab": {
          "base_uri": "https://localhost:8080/",
          "height": 34
        },
        "id": "neHz-iz5OoSn",
        "outputId": "d4212bd3-b2de-47ef-c9c3-725b6248d810"
      },
      "execution_count": null,
      "outputs": [
        {
          "output_type": "display_data",
          "data": {
            "text/plain": [
              "\u001b[1m[\u001b[0m\u001b[32m'cola'\u001b[0m, \u001b[32m'sst2'\u001b[0m, \u001b[32m'mrpc'\u001b[0m, \u001b[32m'qqp'\u001b[0m, \u001b[32m'stsb'\u001b[0m, \u001b[32m'mnli'\u001b[0m, \u001b[32m'mnli_mismatched'\u001b[0m, \u001b[32m'mnli_matched'\u001b[0m, \u001b[32m'qnli'\u001b[0m, \u001b[32m'rte'\u001b[0m, \u001b[32m'wnli'\u001b[0m, \u001b[32m'ax'\u001b[0m\u001b[1m]\u001b[0m\n"
            ],
            "text/html": [
              "<pre style=\"white-space:pre;overflow-x:auto;line-height:normal;font-family:Menlo,'DejaVu Sans Mono',consolas,'Courier New',monospace\"><span style=\"font-weight: bold\">[</span><span style=\"color: #008000; text-decoration-color: #008000\">'cola'</span>, <span style=\"color: #008000; text-decoration-color: #008000\">'sst2'</span>, <span style=\"color: #008000; text-decoration-color: #008000\">'mrpc'</span>, <span style=\"color: #008000; text-decoration-color: #008000\">'qqp'</span>, <span style=\"color: #008000; text-decoration-color: #008000\">'stsb'</span>, <span style=\"color: #008000; text-decoration-color: #008000\">'mnli'</span>, <span style=\"color: #008000; text-decoration-color: #008000\">'mnli_mismatched'</span>, <span style=\"color: #008000; text-decoration-color: #008000\">'mnli_matched'</span>, <span style=\"color: #008000; text-decoration-color: #008000\">'qnli'</span>, <span style=\"color: #008000; text-decoration-color: #008000\">'rte'</span>, <span style=\"color: #008000; text-decoration-color: #008000\">'wnli'</span>, <span style=\"color: #008000; text-decoration-color: #008000\">'ax'</span><span style=\"font-weight: bold\">]</span>\n",
              "</pre>\n"
            ]
          },
          "metadata": {}
        }
      ]
    }
  ]
}